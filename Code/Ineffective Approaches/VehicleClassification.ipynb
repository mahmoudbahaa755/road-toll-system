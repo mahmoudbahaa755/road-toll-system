{
  "cells": [
    {
      "cell_type": "code",
      "execution_count": 1,
      "metadata": {
        "colab": {
          "base_uri": "https://localhost:8080/"
        },
        "id": "bA8Gn-5QR3jt",
        "outputId": "5125ec25-453f-4935-ff19-6e85341dd23c"
      },
      "outputs": [
        {
          "name": "stdout",
          "output_type": "stream",
          "text": [
            "Mounted at /content/gdrive\n"
          ]
        }
      ],
      "source": [
        "from google.colab import drive\n",
        "drive.mount(\"/content/gdrive\")"
      ]
    },
    {
      "cell_type": "code",
      "execution_count": null,
      "metadata": {
        "colab": {
          "base_uri": "https://localhost:8080/"
        },
        "id": "iLQrKjypu0Bq",
        "outputId": "809a33b9-bdf2-4ba3-93a5-d1571298a5f5"
      },
      "outputs": [],
      "source": [
        "!pip install tensorflow sklearn\n"
      ]
    },
    {
      "cell_type": "code",
      "execution_count": 4,
      "metadata": {
        "id": "Gq2-nyVUIfEk"
      },
      "outputs": [],
      "source": [
        "def get_data_from_dir_to_dict(data_dir):\n",
        "  '''\n",
        "  This function take loction of data and return it in dict sepreated and return classes in list\n",
        "  Args\n",
        "    data_dir => location of the data\n",
        "  \n",
        "  return \n",
        "    classes => name of each class in List\n",
        "\n",
        "  '''\n",
        "  data_dir=pathlib.Path(data_dir)\n",
        "\n",
        "  classes= [str(i).split('/')[-1].lower() for i in list(data_dir.glob('*'))]\n",
        "  images={}\n",
        "  for i in classes:\n",
        "    images[i]=list(data_dir.glob(f'{i}/*'))\n",
        "\n",
        "  return classes, images\n",
        "\n"
      ]
    },
    {
      "cell_type": "code",
      "execution_count": 5,
      "metadata": {
        "id": "8-9c4g3QS1Y2"
      },
      "outputs": [],
      "source": [
        "data_dir='/content/drive/MyDrive/Vehicle Classification '"
      ]
    },
    {
      "cell_type": "code",
      "execution_count": null,
      "metadata": {
        "colab": {
          "base_uri": "https://localhost:8080/"
        },
        "id": "h7ktVlNCFyWa",
        "outputId": "d1f52722-6bab-46f4-9ef4-624d8dfb0ea1"
      },
      "outputs": [
        {
          "name": "stdout",
          "output_type": "stream",
          "text": [
            "/bin/bash: google-drive-ocamlfuse: command not found\n"
          ]
        }
      ],
      "source": [
        "# !fusermount -u drive\n",
        "# !google-drive-ocamlfuse drive"
      ]
    },
    {
      "cell_type": "code",
      "execution_count": 6,
      "metadata": {
        "colab": {
          "base_uri": "https://localhost:8080/"
        },
        "id": "XfA3rgE2F2M3",
        "outputId": "a765349a-54d4-4273-9729-d5f00d075bb5"
      },
      "outputs": [
        {
          "name": "stdout",
          "output_type": "stream",
          "text": [
            "['bus', 'half cars', 'trella', 'mallaky', 'jampo', 'mini bus', 'mecropas']\n",
            "['bus', 'half cars', 'mallaky', 'trella', 'jampo', 'mini bus', 'mecropas']\n"
          ]
        }
      ],
      "source": [
        "# data_dir = pathlib.Path(data_dir)\n",
        "# data_dir\n",
        "\n",
        "classes,train_dir=get_data_from_dir_to_dict('/content/gdrive/MyDrive/Vehicle Classification /train')\n",
        "print(classes)\n",
        "classes,test_dir= get_data_from_dir_to_dict('/content/gdrive/MyDrive/Vehicle Classification /test')\n",
        "print(classes)\n",
        "\n",
        "# list(test_dir.glob('*'))\n",
        "# classes= [str(i).split('/')[-1] for i in list(test_dir.glob('*'))]\n",
        "# test_img={}\n",
        "# for i in classes:\n",
        "#   test_img[i]=list(test_dir.glob(f'{i}/*'))\n",
        "# test_img.keys()"
      ]
    },
    {
      "cell_type": "code",
      "execution_count": 7,
      "metadata": {
        "colab": {
          "base_uri": "https://localhost:8080/"
        },
        "id": "B4rLMWenLPcd",
        "outputId": "fdc6ff2f-95bb-4343-8bf4-263e161fb353"
      },
      "outputs": [
        {
          "name": "stdout",
          "output_type": "stream",
          "text": [
            "class: bus DONE\n",
            "class: half cars DONE\n",
            "class: trella DONE\n",
            "class: mallaky DONE\n",
            "class: jampo DONE\n",
            "class: mini bus DONE\n",
            "class: mecropas DONE\n"
          ]
        }
      ],
      "source": [
        "import cv2\n",
        "X=[]\n",
        "y=[]\n",
        "none_img_type=0\n",
        "for class_name, images in train_dir.items():\n",
        "    print('class: DONE','  '*5, f' {class_name}')\n",
        "    for image in images:\n",
        "        n=[0 for _ in range(len(classes))]\n",
        "        img = cv2.imread(str(image),0)\n",
        "        \n",
        "        if img is None:\n",
        "            none_img_type+=1\n",
        "        else:\n",
        "            resized_img = cv2.resize(img,(128,128))\n",
        "        # img = cv2.resize(img,(25,25))\n",
        "        X.append(resized_img)\n",
        "        n[classes.index(class_name)]=1\n",
        "        y.append(n)"
      ]
    },
    {
      "cell_type": "code",
      "execution_count": 3,
      "metadata": {
        "id": "GkpGvUdyKYDh"
      },
      "outputs": [],
      "source": [
        "import pathlib\n",
        "def convert_img_to_arr_with_class(img_dir_dict,num_classes,img_shape):\n",
        "  X=[]\n",
        "  y=[]\n",
        "  none_img_type=0 \n",
        "  for class_name, images in img_dir_dict.items():\n",
        "    for image in images:\n",
        "        n=[0 for _ in range(len(num_classes))]\n",
        "        img = cv2.imread(str(image),0)\n",
        "        \n",
        "        if img is None:\n",
        "            none_img_type+=1\n",
        "        else:\n",
        "            resized_img = cv2.resize(img,img_shape)\n",
        "        # img = cv2.resize(img,(25,25))\n",
        "        X.append(resized_img)\n",
        "        n[classes.index(class_name)]=1\n",
        "        y.append(n)\n",
        "        if none_img_type >0:\n",
        "          print()\n",
        "        return (X,y) \n"
      ]
    },
    {
      "cell_type": "code",
      "execution_count": 14,
      "metadata": {
        "id": "4XwtwU4hkDWQ"
      },
      "outputs": [],
      "source": [
        "X1,y1=convert_img_to_arr_with_class(train_dir,classes,(128,128))"
      ]
    },
    {
      "cell_type": "code",
      "execution_count": null,
      "metadata": {
        "colab": {
          "base_uri": "https://localhost:8080/"
        },
        "id": "ZVGuyMb6u06d",
        "outputId": "d26a0c22-4482-451a-9626-c15aa5b900d2"
      },
      "outputs": [
        {
          "name": "stdout",
          "output_type": "stream",
          "text": [
            "Found 2875 images belonging to 7 classes.\n",
            "Found 2845 images belonging to 7 classes.\n"
          ]
        }
      ],
      "source": [
        "from tensorflow.keras.preprocessing.image import ImageDataGenerator\n",
        "\n",
        "\n",
        "# train_dir=pathlib.Path('/content/gdrive/MyDrive/Vehicle Classification /train')\n",
        "# test_dir= pathlib.Path('/content/gdrive/MyDrive/Vehicle Classification /test')\n",
        "\n",
        "# train_data_img= ImageDataGenerator(1/255.)\n",
        "# test_data_img= ImageDataGenerator(1/255.)\n",
        "# x= train_data_img.flow_from_directory(train_dir,target_size=(128,128),color_mode='grayscale',class_mode='categorical',batch_size=42,)\n",
        "# y= train_data_img.flow_from_directory(test_dir,target_size=(128,128),color_mode='grayscale',class_mode='categorical',batch_size=42,)\n",
        "\n"
      ]
    },
    {
      "cell_type": "code",
      "execution_count": 8,
      "metadata": {
        "id": "jYClimsrmRhX"
      },
      "outputs": [],
      "source": [
        "import numpy as np\n",
        "X= np.array(X,dtype=np.float16)/255.\n",
        "y= np.array(y)"
      ]
    },
    {
      "cell_type": "code",
      "execution_count": 9,
      "metadata": {
        "colab": {
          "base_uri": "https://localhost:8080/"
        },
        "id": "KLbgqOh5WQwM",
        "outputId": "e94a50e9-fa75-43b5-af45-3b2f8fe88117"
      },
      "outputs": [
        {
          "data": {
            "text/plain": [
              "((1515, 128, 128),\n",
              " (169, 128, 128),\n",
              " (421, 128, 128),\n",
              " (1515, 7),\n",
              " (169, 7),\n",
              " (421, 7))"
            ]
          },
          "execution_count": 9,
          "metadata": {},
          "output_type": "execute_result"
        }
      ],
      "source": [
        "from sklearn.model_selection import train_test_split\n",
        "\n",
        "X_train, X_test, y_train, y_test = train_test_split(X,y,test_size=0.2,random_state=42)\n",
        "X_train, X_val, y_train, y_val = train_test_split(X_train,y_train,test_size=0.1,random_state=42)\n",
        "X_train.shape,X_val.shape ,X_test.shape,y_train.shape,y_val.shape,y_test.shape"
      ]
    },
    {
      "cell_type": "code",
      "execution_count": null,
      "metadata": {
        "colab": {
          "base_uri": "https://localhost:8080/"
        },
        "id": "1Wx5R4cEXZ2e",
        "outputId": "fe59d8f5-81a6-4811-f89a-4d45703abd1d"
      },
      "outputs": [
        {
          "data": {
            "text/plain": [
              "7"
            ]
          },
          "execution_count": 18,
          "metadata": {},
          "output_type": "execute_result"
        }
      ],
      "source": [
        "len(y_train[0])"
      ]
    },
    {
      "cell_type": "code",
      "execution_count": null,
      "metadata": {
        "colab": {
          "base_uri": "https://localhost:8080/"
        },
        "id": "XILi2hHquygf",
        "outputId": "b446ad3c-072d-4c25-c62b-25cac81ee89d"
      },
      "outputs": [
        {
          "name": "stdout",
          "output_type": "stream",
          "text": [
            "Model: \"Vehicle-Classifications\"\n",
            "_________________________________________________________________\n",
            " Layer (type)                Output Shape              Param #   \n",
            "=================================================================\n",
            " conv2d_4 (Conv2D)           (None, 128, 128, 32)      320       \n",
            "                                                                 \n",
            " max_pooling2d_4 (MaxPooling  (None, 64, 64, 32)       0         \n",
            " 2D)                                                             \n",
            "                                                                 \n",
            " conv2d_5 (Conv2D)           (None, 62, 62, 16)        4624      \n",
            "                                                                 \n",
            " max_pooling2d_5 (MaxPooling  (None, 31, 31, 16)       0         \n",
            " 2D)                                                             \n",
            "                                                                 \n",
            " flatten_2 (Flatten)         (None, 15376)             0         \n",
            "                                                                 \n",
            " dropout_4 (Dropout)         (None, 15376)             0         \n",
            "                                                                 \n",
            " D1 (Dense)                  (None, 512)               7873024   \n",
            "                                                                 \n",
            " D2 (Dense)                  (None, 256)               131328    \n",
            "                                                                 \n",
            " D3 (Dense)                  (None, 128)               32896     \n",
            "                                                                 \n",
            " D4 (Dense)                  (None, 64)                8256      \n",
            "                                                                 \n",
            " dropout_5 (Dropout)         (None, 64)                0         \n",
            "                                                                 \n",
            " D5 (Dense)                  (None, 7)                 455       \n",
            "                                                                 \n",
            "=================================================================\n",
            "Total params: 8,050,903\n",
            "Trainable params: 8,050,903\n",
            "Non-trainable params: 0\n",
            "_________________________________________________________________\n"
          ]
        }
      ],
      "source": [
        "import tensorflow as tf\n",
        "\n",
        "cnn = tf.keras.Sequential([\n",
        "      #  layer input\n",
        "    layers.InputLayer(input_shape=(224, 224, 3)),\n",
        "\n",
        "    # data augmentation\n",
        "   tf.keras.layers.RandomContrast(0.2),\n",
        "    layers.RandomFlip(\"horizontal_and_vertical\"),\n",
        "    layers.RandomRotation(0.2),\n",
        "    layers.RandomTranslation(0.2,0.1),\n",
        "    layers.RandomZoom(0.3),\n",
        "#     cnn\n",
        "    tf.keras.layers.RandomFlip(\"horizontal_and_vertical\"),\n",
        "  tf.keras.layers.RandomRotation(0.2),\n",
        "    tf.keras.layers.Conv2D(32,3,padding='same'),\n",
        "    tf.keras.layers.MaxPooling2D(),\n",
        "    tf.keras.layers.Conv2D(16,3),\n",
        "    tf.keras.layers.MaxPooling2D(),\n",
        "    # NN\n",
        "    tf.keras.layers.Flatten(),\n",
        "    tf.keras.layers.Dropout(0.2),\n",
        "    tf.keras.layers.Dense(512,activation='relu',name='D1'),\n",
        "\n",
        "tf.keras.layers.Dense(256, activation='relu',name='D2'),\n",
        "tf.keras.layers.Dense(128, activation='relu',name='D3'), \n",
        "tf.keras.layers.Dense(64, activation='relu',name='D4'),\n",
        "tf.keras.layers.Dropout(0.2),\n",
        "tf.keras.layers.Dense(7,activation='softmax',name='D5'),\n",
        "\n",
        "],name='Vehicle-Classifications')\n",
        "cnn.compile(optimizer=tf.keras.optimizers.Adam(),\n",
        "        loss = tf.keras.losses.CategoricalCrossentropy(),\n",
        "        metrics=['accuracy'])\n",
        "cnn.summary()"
      ]
    },
    {
      "cell_type": "code",
      "execution_count": null,
      "metadata": {
        "colab": {
          "base_uri": "https://localhost:8080/"
        },
        "id": "9dRkNnbZkcYg",
        "outputId": "a3910c4e-0d1b-4275-dc76-5869e00259ef"
      },
      "outputs": [
        {
          "name": "stdout",
          "output_type": "stream",
          "text": [
            "Epoch 1/40\n",
            "51/51 [==============================] - 10s 22ms/step - loss: 1.5558 - accuracy: 0.2665 - val_loss: 1.5022 - val_accuracy: 0.2663\n",
            "Epoch 2/40\n",
            "51/51 [==============================] - 1s 15ms/step - loss: 1.4963 - accuracy: 0.2874 - val_loss: 1.5014 - val_accuracy: 0.2722\n",
            "Epoch 3/40\n",
            "51/51 [==============================] - 1s 15ms/step - loss: 1.4680 - accuracy: 0.2855 - val_loss: 1.4659 - val_accuracy: 0.2840\n",
            "Epoch 4/40\n",
            "51/51 [==============================] - 1s 15ms/step - loss: 1.4654 - accuracy: 0.2770 - val_loss: 1.5645 - val_accuracy: 0.2722\n",
            "Epoch 5/40\n",
            "51/51 [==============================] - 1s 15ms/step - loss: 1.4370 - accuracy: 0.2903 - val_loss: 1.4753 - val_accuracy: 0.3609\n",
            "Epoch 6/40\n",
            "51/51 [==============================] - 1s 15ms/step - loss: 1.3095 - accuracy: 0.3919 - val_loss: 1.4022 - val_accuracy: 0.3846\n",
            "Epoch 7/40\n",
            "51/51 [==============================] - 1s 14ms/step - loss: 1.2235 - accuracy: 0.4717 - val_loss: 1.1728 - val_accuracy: 0.4970\n",
            "Epoch 8/40\n",
            "51/51 [==============================] - 1s 16ms/step - loss: 1.0665 - accuracy: 0.5743 - val_loss: 0.9148 - val_accuracy: 0.6331\n",
            "Epoch 9/40\n",
            "51/51 [==============================] - 1s 18ms/step - loss: 0.8710 - accuracy: 0.6713 - val_loss: 0.7151 - val_accuracy: 0.7692\n",
            "Epoch 10/40\n",
            "51/51 [==============================] - 1s 17ms/step - loss: 0.6722 - accuracy: 0.7610 - val_loss: 0.5000 - val_accuracy: 0.8462\n",
            "Epoch 11/40\n",
            "51/51 [==============================] - 1s 16ms/step - loss: 0.5583 - accuracy: 0.8048 - val_loss: 0.4097 - val_accuracy: 0.8462\n",
            "Epoch 12/40\n",
            "51/51 [==============================] - 1s 16ms/step - loss: 0.3977 - accuracy: 0.8637 - val_loss: 0.2942 - val_accuracy: 0.8935\n",
            "Epoch 13/40\n",
            "51/51 [==============================] - 1s 16ms/step - loss: 0.3246 - accuracy: 0.8912 - val_loss: 0.2324 - val_accuracy: 0.9231\n",
            "Epoch 14/40\n",
            "51/51 [==============================] - 1s 15ms/step - loss: 0.2180 - accuracy: 0.9306 - val_loss: 0.2078 - val_accuracy: 0.9467\n",
            "Epoch 15/40\n",
            "51/51 [==============================] - 1s 15ms/step - loss: 0.1772 - accuracy: 0.9397 - val_loss: 0.2561 - val_accuracy: 0.9290\n",
            "Epoch 16/40\n",
            "51/51 [==============================] - 1s 15ms/step - loss: 0.1925 - accuracy: 0.9392 - val_loss: 0.1323 - val_accuracy: 0.9527\n",
            "Epoch 17/40\n",
            "51/51 [==============================] - 1s 15ms/step - loss: 0.1766 - accuracy: 0.9449 - val_loss: 0.0903 - val_accuracy: 0.9645\n",
            "Epoch 18/40\n",
            "51/51 [==============================] - 1s 15ms/step - loss: 0.0713 - accuracy: 0.9777 - val_loss: 0.0705 - val_accuracy: 0.9822\n",
            "Epoch 19/40\n",
            "51/51 [==============================] - 1s 15ms/step - loss: 0.0826 - accuracy: 0.9748 - val_loss: 0.1461 - val_accuracy: 0.9527\n",
            "Epoch 20/40\n",
            "51/51 [==============================] - 1s 15ms/step - loss: 0.1123 - accuracy: 0.9686 - val_loss: 0.0822 - val_accuracy: 0.9822\n",
            "Epoch 21/40\n",
            "51/51 [==============================] - 1s 15ms/step - loss: 0.0734 - accuracy: 0.9791 - val_loss: 0.0422 - val_accuracy: 0.9822\n",
            "Epoch 22/40\n",
            "51/51 [==============================] - 1s 14ms/step - loss: 0.0595 - accuracy: 0.9819 - val_loss: 0.0126 - val_accuracy: 1.0000\n",
            "Epoch 23/40\n",
            "51/51 [==============================] - 1s 18ms/step - loss: 0.0276 - accuracy: 0.9905 - val_loss: 0.0130 - val_accuracy: 1.0000\n",
            "Epoch 24/40\n",
            "51/51 [==============================] - 1s 20ms/step - loss: 0.0426 - accuracy: 0.9895 - val_loss: 0.0168 - val_accuracy: 1.0000\n",
            "Epoch 25/40\n",
            "51/51 [==============================] - 1s 24ms/step - loss: 0.0124 - accuracy: 0.9967 - val_loss: 0.0049 - val_accuracy: 1.0000\n",
            "Epoch 26/40\n",
            "51/51 [==============================] - 1s 17ms/step - loss: 0.0203 - accuracy: 0.9919 - val_loss: 0.0111 - val_accuracy: 1.0000\n",
            "Epoch 27/40\n",
            "51/51 [==============================] - 1s 17ms/step - loss: 0.0925 - accuracy: 0.9729 - val_loss: 0.1488 - val_accuracy: 0.9704\n",
            "Epoch 28/40\n",
            "51/51 [==============================] - 1s 17ms/step - loss: 0.1038 - accuracy: 0.9729 - val_loss: 0.0568 - val_accuracy: 0.9882\n",
            "Epoch 29/40\n",
            "51/51 [==============================] - 1s 15ms/step - loss: 0.0404 - accuracy: 0.9857 - val_loss: 0.1048 - val_accuracy: 0.9882\n",
            "Epoch 30/40\n",
            "51/51 [==============================] - 1s 15ms/step - loss: 0.0718 - accuracy: 0.9805 - val_loss: 0.0078 - val_accuracy: 1.0000\n",
            "Epoch 31/40\n",
            "51/51 [==============================] - 1s 15ms/step - loss: 0.0327 - accuracy: 0.9933 - val_loss: 0.0072 - val_accuracy: 1.0000\n",
            "Epoch 32/40\n",
            "51/51 [==============================] - 1s 15ms/step - loss: 0.0261 - accuracy: 0.9924 - val_loss: 0.0974 - val_accuracy: 0.9822\n",
            "Epoch 33/40\n",
            "51/51 [==============================] - 1s 15ms/step - loss: 0.0464 - accuracy: 0.9862 - val_loss: 0.0127 - val_accuracy: 1.0000\n",
            "Epoch 34/40\n",
            "51/51 [==============================] - 1s 15ms/step - loss: 0.0337 - accuracy: 0.9905 - val_loss: 0.0051 - val_accuracy: 1.0000\n",
            "Epoch 35/40\n",
            "51/51 [==============================] - 1s 15ms/step - loss: 0.0160 - accuracy: 0.9962 - val_loss: 0.0035 - val_accuracy: 1.0000\n",
            "Epoch 36/40\n",
            "51/51 [==============================] - 1s 15ms/step - loss: 0.0077 - accuracy: 0.9962 - val_loss: 0.0027 - val_accuracy: 1.0000\n",
            "Epoch 37/40\n",
            "51/51 [==============================] - 1s 14ms/step - loss: 0.0191 - accuracy: 0.9914 - val_loss: 0.0235 - val_accuracy: 0.9822\n",
            "Epoch 38/40\n",
            "51/51 [==============================] - 1s 15ms/step - loss: 0.0254 - accuracy: 0.9910 - val_loss: 0.0413 - val_accuracy: 0.9882\n",
            "Epoch 39/40\n",
            "51/51 [==============================] - 1s 15ms/step - loss: 0.0079 - accuracy: 0.9976 - val_loss: 0.0033 - val_accuracy: 1.0000\n",
            "Epoch 40/40\n",
            "51/51 [==============================] - 1s 15ms/step - loss: 0.0200 - accuracy: 0.9957 - val_loss: 0.0088 - val_accuracy: 0.9941\n"
          ]
        }
      ],
      "source": [
        "history= cnn.fit(X,y,epochs=40,batch_size=42,\n",
        "                 validation_data=(X_val,y_val)\n",
        "                 )"
      ]
    },
    {
      "cell_type": "code",
      "execution_count": null,
      "metadata": {
        "id": "MrnDQP6CY2yt"
      },
      "outputs": [],
      "source": [
        "cnn.evaluate(X_test,y_test)"
      ]
    }
  ],
  "metadata": {
    "accelerator": "GPU",
    "colab": {
      "provenance": []
    },
    "gpuClass": "standard",
    "kernelspec": {
      "display_name": "Python 3",
      "name": "python3"
    },
    "language_info": {
      "name": "python"
    }
  },
  "nbformat": 4,
  "nbformat_minor": 0
}
