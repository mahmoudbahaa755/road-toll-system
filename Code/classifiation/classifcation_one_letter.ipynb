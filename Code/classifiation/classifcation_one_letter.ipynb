{
  "metadata": {
    "kernelspec": {
      "language": "python",
      "display_name": "Python 3",
      "name": "python3"
    },
    "language_info": {
      "name": "python",
      "version": "3.7.12",
      "mimetype": "text/x-python",
      "codemirror_mode": {
        "name": "ipython",
        "version": 3
      },
      "pygments_lexer": "ipython3",
      "nbconvert_exporter": "python",
      "file_extension": ".py"
    },
    "colab": {
      "provenance": []
    },
    "accelerator": "GPU"
  },
  "nbformat_minor": 0,
  "nbformat": 4,
  "cells": [
    {
      "cell_type": "markdown",
      "source": [
        "# Import Libraries"
      ],
      "metadata": {
        "id": "JU8aEy1zRHgu"
      }
    },
    {
      "cell_type": "code",
      "source": [
        "!pip install imutils\n",
        "!pip install tensorflow\n",
        "!pip install keras"
      ],
      "metadata": {
        "execution": {
          "iopub.status.busy": "2022-03-25T18:03:02.650225Z",
          "iopub.execute_input": "2022-03-25T18:03:02.651105Z",
          "iopub.status.idle": "2022-03-25T18:03:02.656385Z",
          "shell.execute_reply.started": "2022-03-25T18:03:02.650971Z",
          "shell.execute_reply": "2022-03-25T18:03:02.655480Z"
        },
        "trusted": true,
        "id": "Sx3s1-JvRHgv",
        "colab": {
          "base_uri": "https://localhost:8080/"
        },
        "outputId": "add205a0-4600-4a6f-d39f-df0783a3815b"
      },
      "execution_count": 204,
      "outputs": [
        {
          "output_type": "stream",
          "name": "stdout",
          "text": [
            "Looking in indexes: https://pypi.org/simple, https://us-python.pkg.dev/colab-wheels/public/simple/\n",
            "Requirement already satisfied: imutils in /usr/local/lib/python3.8/dist-packages (0.5.4)\n",
            "Looking in indexes: https://pypi.org/simple, https://us-python.pkg.dev/colab-wheels/public/simple/\n",
            "Requirement already satisfied: tensorflow in /usr/local/lib/python3.8/dist-packages (2.9.2)\n",
            "Requirement already satisfied: protobuf<3.20,>=3.9.2 in /usr/local/lib/python3.8/dist-packages (from tensorflow) (3.19.6)\n",
            "Requirement already satisfied: keras<2.10.0,>=2.9.0rc0 in /usr/local/lib/python3.8/dist-packages (from tensorflow) (2.9.0)\n",
            "Requirement already satisfied: tensorboard<2.10,>=2.9 in /usr/local/lib/python3.8/dist-packages (from tensorflow) (2.9.1)\n",
            "Requirement already satisfied: tensorflow-estimator<2.10.0,>=2.9.0rc0 in /usr/local/lib/python3.8/dist-packages (from tensorflow) (2.9.0)\n",
            "Requirement already satisfied: keras-preprocessing>=1.1.1 in /usr/local/lib/python3.8/dist-packages (from tensorflow) (1.1.2)\n",
            "Requirement already satisfied: h5py>=2.9.0 in /usr/local/lib/python3.8/dist-packages (from tensorflow) (3.1.0)\n",
            "Requirement already satisfied: numpy>=1.20 in /usr/local/lib/python3.8/dist-packages (from tensorflow) (1.21.6)\n",
            "Requirement already satisfied: absl-py>=1.0.0 in /usr/local/lib/python3.8/dist-packages (from tensorflow) (1.3.0)\n",
            "Requirement already satisfied: google-pasta>=0.1.1 in /usr/local/lib/python3.8/dist-packages (from tensorflow) (0.2.0)\n",
            "Requirement already satisfied: gast<=0.4.0,>=0.2.1 in /usr/local/lib/python3.8/dist-packages (from tensorflow) (0.4.0)\n",
            "Requirement already satisfied: packaging in /usr/local/lib/python3.8/dist-packages (from tensorflow) (21.3)\n",
            "Requirement already satisfied: libclang>=13.0.0 in /usr/local/lib/python3.8/dist-packages (from tensorflow) (14.0.6)\n",
            "Requirement already satisfied: tensorflow-io-gcs-filesystem>=0.23.1 in /usr/local/lib/python3.8/dist-packages (from tensorflow) (0.28.0)\n",
            "Requirement already satisfied: flatbuffers<2,>=1.12 in /usr/local/lib/python3.8/dist-packages (from tensorflow) (1.12)\n",
            "Requirement already satisfied: grpcio<2.0,>=1.24.3 in /usr/local/lib/python3.8/dist-packages (from tensorflow) (1.51.1)\n",
            "Requirement already satisfied: opt-einsum>=2.3.2 in /usr/local/lib/python3.8/dist-packages (from tensorflow) (3.3.0)\n",
            "Requirement already satisfied: termcolor>=1.1.0 in /usr/local/lib/python3.8/dist-packages (from tensorflow) (2.1.1)\n",
            "Requirement already satisfied: typing-extensions>=3.6.6 in /usr/local/lib/python3.8/dist-packages (from tensorflow) (4.4.0)\n",
            "Requirement already satisfied: astunparse>=1.6.0 in /usr/local/lib/python3.8/dist-packages (from tensorflow) (1.6.3)\n",
            "Requirement already satisfied: six>=1.12.0 in /usr/local/lib/python3.8/dist-packages (from tensorflow) (1.15.0)\n",
            "Requirement already satisfied: wrapt>=1.11.0 in /usr/local/lib/python3.8/dist-packages (from tensorflow) (1.14.1)\n",
            "Requirement already satisfied: setuptools in /usr/local/lib/python3.8/dist-packages (from tensorflow) (57.4.0)\n",
            "Requirement already satisfied: wheel<1.0,>=0.23.0 in /usr/local/lib/python3.8/dist-packages (from astunparse>=1.6.0->tensorflow) (0.38.4)\n",
            "Requirement already satisfied: markdown>=2.6.8 in /usr/local/lib/python3.8/dist-packages (from tensorboard<2.10,>=2.9->tensorflow) (3.4.1)\n",
            "Requirement already satisfied: requests<3,>=2.21.0 in /usr/local/lib/python3.8/dist-packages (from tensorboard<2.10,>=2.9->tensorflow) (2.23.0)\n",
            "Requirement already satisfied: tensorboard-plugin-wit>=1.6.0 in /usr/local/lib/python3.8/dist-packages (from tensorboard<2.10,>=2.9->tensorflow) (1.8.1)\n",
            "Requirement already satisfied: google-auth<3,>=1.6.3 in /usr/local/lib/python3.8/dist-packages (from tensorboard<2.10,>=2.9->tensorflow) (2.15.0)\n",
            "Requirement already satisfied: werkzeug>=1.0.1 in /usr/local/lib/python3.8/dist-packages (from tensorboard<2.10,>=2.9->tensorflow) (1.0.1)\n",
            "Requirement already satisfied: tensorboard-data-server<0.7.0,>=0.6.0 in /usr/local/lib/python3.8/dist-packages (from tensorboard<2.10,>=2.9->tensorflow) (0.6.1)\n",
            "Requirement already satisfied: google-auth-oauthlib<0.5,>=0.4.1 in /usr/local/lib/python3.8/dist-packages (from tensorboard<2.10,>=2.9->tensorflow) (0.4.6)\n",
            "Requirement already satisfied: cachetools<6.0,>=2.0.0 in /usr/local/lib/python3.8/dist-packages (from google-auth<3,>=1.6.3->tensorboard<2.10,>=2.9->tensorflow) (5.2.0)\n",
            "Requirement already satisfied: rsa<5,>=3.1.4 in /usr/local/lib/python3.8/dist-packages (from google-auth<3,>=1.6.3->tensorboard<2.10,>=2.9->tensorflow) (4.9)\n",
            "Requirement already satisfied: pyasn1-modules>=0.2.1 in /usr/local/lib/python3.8/dist-packages (from google-auth<3,>=1.6.3->tensorboard<2.10,>=2.9->tensorflow) (0.2.8)\n",
            "Requirement already satisfied: requests-oauthlib>=0.7.0 in /usr/local/lib/python3.8/dist-packages (from google-auth-oauthlib<0.5,>=0.4.1->tensorboard<2.10,>=2.9->tensorflow) (1.3.1)\n",
            "Requirement already satisfied: importlib-metadata>=4.4 in /usr/local/lib/python3.8/dist-packages (from markdown>=2.6.8->tensorboard<2.10,>=2.9->tensorflow) (5.1.0)\n",
            "Requirement already satisfied: zipp>=0.5 in /usr/local/lib/python3.8/dist-packages (from importlib-metadata>=4.4->markdown>=2.6.8->tensorboard<2.10,>=2.9->tensorflow) (3.11.0)\n",
            "Requirement already satisfied: pyasn1<0.5.0,>=0.4.6 in /usr/local/lib/python3.8/dist-packages (from pyasn1-modules>=0.2.1->google-auth<3,>=1.6.3->tensorboard<2.10,>=2.9->tensorflow) (0.4.8)\n",
            "Requirement already satisfied: certifi>=2017.4.17 in /usr/local/lib/python3.8/dist-packages (from requests<3,>=2.21.0->tensorboard<2.10,>=2.9->tensorflow) (2022.12.7)\n",
            "Requirement already satisfied: urllib3!=1.25.0,!=1.25.1,<1.26,>=1.21.1 in /usr/local/lib/python3.8/dist-packages (from requests<3,>=2.21.0->tensorboard<2.10,>=2.9->tensorflow) (1.24.3)\n",
            "Requirement already satisfied: idna<3,>=2.5 in /usr/local/lib/python3.8/dist-packages (from requests<3,>=2.21.0->tensorboard<2.10,>=2.9->tensorflow) (2.10)\n",
            "Requirement already satisfied: chardet<4,>=3.0.2 in /usr/local/lib/python3.8/dist-packages (from requests<3,>=2.21.0->tensorboard<2.10,>=2.9->tensorflow) (3.0.4)\n",
            "Requirement already satisfied: oauthlib>=3.0.0 in /usr/local/lib/python3.8/dist-packages (from requests-oauthlib>=0.7.0->google-auth-oauthlib<0.5,>=0.4.1->tensorboard<2.10,>=2.9->tensorflow) (3.2.2)\n",
            "Requirement already satisfied: pyparsing!=3.0.5,>=2.0.2 in /usr/local/lib/python3.8/dist-packages (from packaging->tensorflow) (3.0.9)\n",
            "Looking in indexes: https://pypi.org/simple, https://us-python.pkg.dev/colab-wheels/public/simple/\n",
            "Requirement already satisfied: keras in /usr/local/lib/python3.8/dist-packages (2.9.0)\n"
          ]
        }
      ]
    },
    {
      "cell_type": "code",
      "source": [
        "!git clone https://github.com/NouranHany/Transformers.git"
      ],
      "metadata": {
        "colab": {
          "base_uri": "https://localhost:8080/"
        },
        "id": "9U1ftjlX1CjM",
        "outputId": "0ba5e0c7-9cf8-471a-9fa5-25f6b1360a17"
      },
      "execution_count": 205,
      "outputs": [
        {
          "output_type": "stream",
          "name": "stdout",
          "text": [
            "fatal: destination path 'Transformers' already exists and is not an empty directory.\n"
          ]
        }
      ]
    },
    {
      "cell_type": "code",
      "source": [
        "!unzip '/content/Transformers/Macathon/data/cropped_letters.zip'  -d './cropped_letters'\n",
        "!unzip '/content/Transformers/Macathon/data/cropped_numbers.zip'  -d './cropped_numbers'\n",
        "!unzip '/content/Transformers/Macathon/data/testLetters.zip'  -d './test_images'"
      ],
      "metadata": {
        "id": "0x1JIhWcUy0E",
        "colab": {
          "base_uri": "https://localhost:8080/"
        },
        "outputId": "241e952e-3b1d-4910-b879-7e9f2afb0973"
      },
      "execution_count": 206,
      "outputs": [
        {
          "output_type": "stream",
          "name": "stdout",
          "text": [
            "Archive:  /content/Transformers/Macathon/data/cropped_letters.zip\n",
            "cropped_letters/ا/:  mismatching \"local\" filename (cropped_letters/╪з/),\n",
            "         continuing with \"central\" filename version\n",
            "cropped_letters/ا/0.jpg:  mismatching \"local\" filename (cropped_letters/╪з/0.jpg),\n",
            "         continuing with \"central\" filename version\n",
            "replace ./cropped_letters/cropped_letters/ا/0.jpg? [y]es, [n]o, [A]ll, [N]one, [r]ename: Archive:  /content/Transformers/Macathon/data/cropped_numbers.zip\n",
            "replace ./cropped_numbers/cropped_numbers/0/0.jpg? [y]es, [n]o, [A]ll, [N]one, [r]ename: Archive:  /content/Transformers/Macathon/data/testLetters.zip\n",
            "replace ./test_images/testLetters/00000.jpg? [y]es, [n]o, [A]ll, [N]one, [r]ename: "
          ]
        }
      ]
    },
    {
      "cell_type": "code",
      "source": [
        "!git clone https://github.com/ahmedramadan96/EALPR.git\n"
      ],
      "metadata": {
        "id": "To2BNB8dSb46",
        "colab": {
          "base_uri": "https://localhost:8080/"
        },
        "outputId": "12be2c8e-b0aa-44ac-d77a-ebdf1f3908ee"
      },
      "execution_count": 207,
      "outputs": [
        {
          "output_type": "stream",
          "name": "stdout",
          "text": [
            "fatal: destination path 'EALPR' already exists and is not an empty directory.\n"
          ]
        }
      ]
    },
    {
      "cell_type": "markdown",
      "source": [
        "### Including needed libraries"
      ],
      "metadata": {
        "id": "AYgue9W8Q4f2"
      }
    },
    {
      "cell_type": "code",
      "source": [
        "import numpy as np # linear algebra\n",
        "import pandas as pd # data processing, CSV file I/O (e.g. pd.read_csv)\n",
        "\n",
        "#Deep Learning\n",
        "import tensorflow as tf\n",
        "from tensorflow import keras\n",
        "from tensorflow.keras import layers as L\n",
        "from tensorflow.keras.models import Sequential\n",
        "from tensorflow.keras.preprocessing.image import ImageDataGenerator\n",
        "from skimage.transform import resize, rescale\n",
        "from tensorflow.keras import optimizers\n",
        "from tensorflow.keras.models import Sequential\n",
        "from tensorflow.keras.preprocessing.image import ImageDataGenerator\n",
        "from tensorflow.keras.layers import Dense, Flatten, MaxPooling2D, Dropout, Conv2D,BatchNormalization\n",
        "from imutils import paths\n",
        "from skimage.segmentation import clear_border\n",
        "from PIL import Image\n",
        "import seaborn as sn\n",
        "import argparse\n",
        "import imutils\n",
        "import matplotlib.pyplot as plt\n",
        "import matplotlib.image as mpimg\n",
        "import skimage \n",
        "#from imutils.perspective import four_point_transform\n",
        "import os\n",
        "import cv2\n",
        "import csv\n",
        "import glob\n",
        "import skimage.io as io\n",
        "import pickle\n",
        "from skimage.color import rgb2gray, gray2rgb\n",
        "%matplotlib inline"
      ],
      "metadata": {
        "execution": {
          "iopub.status.busy": "2022-03-25T18:03:04.089541Z",
          "iopub.execute_input": "2022-03-25T18:03:04.090035Z",
          "iopub.status.idle": "2022-03-25T18:03:06.244937Z",
          "shell.execute_reply.started": "2022-03-25T18:03:04.089993Z",
          "shell.execute_reply": "2022-03-25T18:03:06.244126Z"
        },
        "trusted": true,
        "id": "OS7UPLmpRHgw"
      },
      "execution_count": 231,
      "outputs": []
    },
    {
      "cell_type": "markdown",
      "source": [
        "### Defining needed preprocessing functions."
      ],
      "metadata": {
        "id": "vjEiHO_PQ-ST"
      }
    },
    {
      "cell_type": "code",
      "source": [
        "from tensorflow.keras.preprocessing.image import load_img, img_to_array, array_to_img\n",
        "\n",
        "def change_size(image):\n",
        "    img = array_to_img(image, scale=False) #returns PIL Image\n",
        "    img = img.resize((32, 32)) #resize image\n",
        "    arr = img_to_array(img) #convert back to array\n",
        "    return arr.astype(np.float64)"
      ],
      "metadata": {
        "execution": {
          "iopub.status.busy": "2022-03-25T18:03:26.722635Z",
          "iopub.execute_input": "2022-03-25T18:03:26.722924Z",
          "iopub.status.idle": "2022-03-25T18:03:26.728381Z",
          "shell.execute_reply.started": "2022-03-25T18:03:26.722893Z",
          "shell.execute_reply": "2022-03-25T18:03:26.727532Z"
        },
        "trusted": true,
        "id": "mQL2k9wfRHg7"
      },
      "execution_count": 209,
      "outputs": []
    },
    {
      "cell_type": "code",
      "source": [
        "letters='/content/cropped_letters/cropped_letters'\n",
        "numbers='/content/cropped_numbers/cropped_numbers'"
      ],
      "metadata": {
        "id": "AiP1ihbGhhxT"
      },
      "execution_count": 210,
      "outputs": []
    },
    {
      "cell_type": "code",
      "source": [
        "import pathlib\n",
        "\n",
        "data_dir_letters = pathlib.Path(letters)\n",
        "data_dir_numbers = pathlib.Path(numbers)\n",
        "\n",
        "data_dir_numbers"
      ],
      "metadata": {
        "colab": {
          "base_uri": "https://localhost:8080/"
        },
        "id": "dPITlkfOhvIS",
        "outputId": "aa0235d8-0ca6-4fa0-921a-d31e6a229ea1"
      },
      "execution_count": 211,
      "outputs": [
        {
          "output_type": "execute_result",
          "data": {
            "text/plain": [
              "PosixPath('/content/cropped_numbers/cropped_numbers')"
            ]
          },
          "metadata": {},
          "execution_count": 211
        }
      ]
    },
    {
      "cell_type": "code",
      "source": [
        "list(data_dir_numbers.glob('*/*.jpg'))[:5]\n",
        "list(data_dir_letters.glob('*/*.jpg'))[:5]"
      ],
      "metadata": {
        "colab": {
          "base_uri": "https://localhost:8080/"
        },
        "id": "xSQ6Nrc2iFuf",
        "outputId": "6a7facfd-7125-4a9b-f135-439946638133"
      },
      "execution_count": 212,
      "outputs": [
        {
          "output_type": "execute_result",
          "data": {
            "text/plain": [
              "[PosixPath('/content/cropped_letters/cropped_letters/ص/29.jpg'),\n",
              " PosixPath('/content/cropped_letters/cropped_letters/ص/34.jpg'),\n",
              " PosixPath('/content/cropped_letters/cropped_letters/ص/202.jpg'),\n",
              " PosixPath('/content/cropped_letters/cropped_letters/ص/153.jpg'),\n",
              " PosixPath('/content/cropped_letters/cropped_letters/ص/348.jpg')]"
            ]
          },
          "metadata": {},
          "execution_count": 212
        }
      ]
    },
    {
      "cell_type": "code",
      "source": [
        "image_count_letters = len(list(data_dir_letters.glob('*/*.jpg')))\n",
        "image_count_numbers = len(list(data_dir_numbers.glob('*/*.jpg')))\n",
        "\n",
        "print(image_count_numbers,image_count_letters)"
      ],
      "metadata": {
        "colab": {
          "base_uri": "https://localhost:8080/"
        },
        "id": "XayET9j5iRBo",
        "outputId": "96bb304b-417c-4321-af19-d10637d924ee"
      },
      "execution_count": 213,
      "outputs": [
        {
          "output_type": "stream",
          "name": "stdout",
          "text": [
            "12493 12509\n"
          ]
        }
      ]
    },
    {
      "cell_type": "code",
      "source": [
        "# images_dict = {\n",
        "#     '0': list(data_dir_numbers.glob('0/*')),\n",
        "#     '1': list(data_dir_numbers.glob('1/*')),\n",
        "#     '2': list(data_dir_numbers.glob('2/*')),\n",
        "#     '4': list(data_dir_numbers.glob('4/*')),\n",
        "#     '5': list(data_dir_numbers.glob('5/*')),\n",
        "#     '3': list(data_dir_numbers.glob('3/*')),\n",
        "#     '6': list(data_dir_numbers.glob('6/*')),\n",
        "#     '7': list(data_dir_numbers.glob('7/*')),\n",
        "#     '8': list(data_dir_numbers.glob('8/*')),\n",
        "#     '9': list(data_dir_numbers.glob('9/*')),\n",
        "# # }\n",
        "# # letters_images_dict = {\n",
        "#     'ا': list(data_dir_letters.glob('ا/*')),\n",
        "#     'ب': list(data_dir_letters.glob('ب/*')),\n",
        "#     'ت': list(data_dir_letters.glob('ت/*')),\n",
        "#     'ث': list(data_dir_letters.glob('ث/*')),\n",
        "#     'ج': list(data_dir_letters.glob('ج/*')),\n",
        "#     'ح': list(data_dir_letters.glob('ح/*')),\n",
        "#     'خ': list(data_dir_letters.glob('خ/*')),\n",
        "#     'د': list(data_dir_letters.glob('د/*')),\n",
        "#     'ذ': list(data_dir_letters.glob('ذ/*')),\n",
        "#     'ر': list(data_dir_letters.glob('ر/*')),\n",
        "#     'ز': list(data_dir_letters.glob('ز/*')),\n",
        "#     'س': list(data_dir_letters.glob('س/*')),\n",
        "#     'ش': list(data_dir_letters.glob('ش/*')),\n",
        "#     'ص': list(data_dir_letters.glob('ص/*')),\n",
        "#     'ض': list(data_dir_letters.glob('ض/*')),\n",
        "#     'ط': list(data_dir_letters.glob('ط/*')),\n",
        "#     'ظ': list(data_dir_letters.glob('ظ/*')),\n",
        "#     'ع': list(data_dir_letters.glob('ع/*')),\n",
        "#     'غ': list(data_dir_letters.glob('غ/*')),\n",
        "#     'ف': list(data_dir_letters.glob('ف/*')),\n",
        "#     'ق': list(data_dir_letters.glob('ق/*')),\n",
        "#     'ك': list(data_dir_numbers.glob('ك/*')),\n",
        "#     'ل': list(data_dir_numbers.glob('ل/*')),\n",
        "#     'ن': list(data_dir_numbers.glob('ن/*')),\n",
        "#     'م': list(data_dir_numbers.glob('م/*')),\n",
        "#     'ه': list(data_dir_numbers.glob('ه/*')),\n",
        "#     'و': list(data_dir_numbers.glob('و/*')),\n",
        "#     'ي': list(data_dir_numbers.glob('ي/*')),\n",
        "\n",
        "# }\n",
        "# classes={\n",
        "#     '0': 0,\n",
        "#     '1': 1,\n",
        "#     '2': 2,\n",
        "#     '3': 3,\n",
        "#     '4':4,\n",
        "#     '5':5,\n",
        "#     '6':6,\n",
        "#     '7':7,\n",
        "#     '8':8,\n",
        "#     '9':9,\n",
        "#    'ا':10    ,\n",
        "#     'ب':11,\n",
        "#     'ت':12,\n",
        "#     'ث':13,\n",
        "#     'ج':14,\n",
        "#     'ح':15,\n",
        "#     'خ':16,\n",
        "#     'د':17,\n",
        "#     'ذ':18,\n",
        "#     'ر':19,\n",
        "#     'ز':20,\n",
        "#     'س':21,\n",
        "#     'ش':22,\n",
        "#     'ص':23,\n",
        "#     'ض':24,\n",
        "#     'ط':25,\n",
        "#     'ظ':26,\n",
        "#     'ع':27,\n",
        "#     'غ':28,\n",
        "#     'ف':29,\n",
        "#     'ق':30,\n",
        "#     'ك':31,\n",
        "#     'ل':32,\n",
        "#     'م':33,\n",
        "#     'ن':34,\n",
        "#     'ه':35,\n",
        "#     'و':36,\n",
        "#     'ي':37,\n",
        "# }"
      ],
      "metadata": {
        "id": "d4M00YrCin80"
      },
      "execution_count": 214,
      "outputs": []
    },
    {
      "cell_type": "code",
      "source": [
        "data ='/content/EALPR/EALPR- LP characters dataset/Characters/'\n",
        "data = pathlib.Path(data)\n",
        "data1=list(data.glob('*.png'))\n",
        "n=list(data.glob('*ن*.png'))\n",
        "len(n)"
      ],
      "metadata": {
        "colab": {
          "base_uri": "https://localhost:8080/"
        },
        "id": "ZDp8Ag9n_OIP",
        "outputId": "1071dda2-d803-4882-ef12-fd248f794259"
      },
      "execution_count": 215,
      "outputs": [
        {
          "output_type": "execute_result",
          "data": {
            "text/plain": [
              "261"
            ]
          },
          "metadata": {},
          "execution_count": 215
        }
      ]
    },
    {
      "cell_type": "code",
      "source": [
        "images_dict = {\n",
        "    '0': list(data.glob('*٠*.png')),\n",
        "    '1': list(data.glob('*١*.png')),\n",
        "    '2': list(data.glob('*٢*.png')),\n",
        "    '4': list(data.glob('*٤*.png')),\n",
        "    '5': list(data.glob('*٥*.png')),\n",
        "    '3': list(data.glob('*٣*.png')),\n",
        "    '6': list(data.glob('*٦*.png')),\n",
        "    '7': list(data.glob('*٧*.png')),\n",
        "    '8': list(data.glob('*٨*.png')),\n",
        "    '9': list(data.glob('*٩*.png')),\n",
        "# }\n",
        "# letters_images_dict = {\n",
        "    'أ': list(data.glob('*أ*.png')),\n",
        "    'ب': list(data.glob('*ب*.png')),\n",
        "    # 'ت': list(data.glob('*ت*.png')),\n",
        "    # 'ث': list(data.glob('*ث*.png')),\n",
        "    'ج': list(data.glob('*ج*.png')),\n",
        "    # 'ح': list(data.glob('*ح*.png')),\n",
        "    # 'خ': list(data.glob('*خ*.png')),\n",
        "    'د': list(data.glob('*د*.png')),\n",
        "    # 'ذ': list(data.glob('*ذ*.png')),\n",
        "    'ر': list(data.glob('*ر*.png')),\n",
        "    # 'ز': list(data.glob('*ز*.png')),\n",
        "    'س': list(data.glob('*س*.png')),\n",
        "    # 'ش': list(data.glob('*ش*.png')),\n",
        "    'ص': list(data.glob('*ص*.png')),\n",
        "    # 'ض': list(data.glob('*ض*.png')),\n",
        "    'ط': list(data.glob('*ط*.png')),\n",
        "    # 'ظ': list(data.glob('*ظ*.png')),\n",
        "    'ع': list(data.glob('*ع*.png')),\n",
        "    # 'غ': list(data.glob('*غ*.png')),\n",
        "    'ف': list(data.glob('*ف*.png')),\n",
        "    'ق': list(data.glob('*ق*.png')),\n",
        "    # 'ك': list(data.glob('*ك*.png')),\n",
        "    'ل': list(data.glob('*ل*.png')),\n",
        "    'ن': list(data.glob('*ن*.png')),\n",
        "    'م': list(data.glob('*م*.png')),\n",
        "    'ھ': list(data.glob('*ھ*.png')),\n",
        "    'و': list(data.glob('*و*.png')),\n",
        "    'ي': list(data.glob('*ي*.png')),\n",
        "\n",
        "\n",
        "}\n",
        "classes={'أ': 0, 'ب': 1, 'ج': 2, 'د': 3, 'ر': 4, 'س': 5, 'ص': 6, 'ط': 7, \n",
        "         'ع': 8, 'ف': 9, 'ق': 10, 'ل': 11, 'م': 12, 'ن': 13, 'ھ': 14, 'و': 15,\n",
        "         'ي': 16, '0': 17, '1': 18, '2': 19, '3': 20, '4': 21, '5': 22, '6': 23, '7': 24, '8': 25, '9': 26}"
      ],
      "metadata": {
        "id": "zJJuuRds_HUG"
      },
      "execution_count": 267,
      "outputs": []
    },
    {
      "cell_type": "code",
      "source": [
        "img = cv2.imread(str(images_dict[\"4\"][0]) ,0)\n",
        "img = cv2.resize(img,(25,25))\n",
        "img.shape"
      ],
      "metadata": {
        "colab": {
          "base_uri": "https://localhost:8080/"
        },
        "id": "XODqW2cPkjAV",
        "outputId": "c98ed2dd-7e0b-4220-c350-cbe31a3c62b5"
      },
      "execution_count": 268,
      "outputs": [
        {
          "output_type": "execute_result",
          "data": {
            "text/plain": [
              "(25, 25)"
            ]
          },
          "metadata": {},
          "execution_count": 268
        }
      ]
    },
    {
      "cell_type": "code",
      "source": [
        "\n",
        "for i in classes:\n",
        "  print(len(images_dict[i]))"
      ],
      "metadata": {
        "colab": {
          "base_uri": "https://localhost:8080/"
        },
        "id": "BGyQO4b0lKBj",
        "outputId": "a6659dab-0b63-425a-e605-02a9f39f7651"
      },
      "execution_count": 271,
      "outputs": [
        {
          "output_type": "stream",
          "name": "stdout",
          "text": [
            "458\n",
            "207\n",
            "221\n",
            "344\n",
            "374\n",
            "423\n",
            "144\n",
            "155\n",
            "316\n",
            "188\n",
            "207\n",
            "210\n",
            "602\n",
            "261\n",
            "274\n",
            "261\n",
            "0\n",
            "1\n",
            "1361\n",
            "424\n",
            "392\n",
            "598\n",
            "629\n",
            "1005\n",
            "550\n",
            "291\n",
            "395\n"
          ]
        }
      ]
    },
    {
      "cell_type": "code",
      "source": [
        "X, y = [], []\n",
        "c=0\n",
        "for class_name, images in images_dict.items():\n",
        "    for image in images:\n",
        "        n=[0 for _ in range(27)]\n",
        "        img = cv2.imread(str(image),0)\n",
        "        \n",
        "        if img is None:\n",
        "            c=c+1\n",
        "        else:\n",
        "            resized_img = cv2.resize(img,(25,25))\n",
        "        # img = cv2.resize(img,(25,25))\n",
        "        X.append(resized_img)\n",
        "        n[classes[class_name]]=1\n",
        "        y.append(n)\n",
        "c"
      ],
      "metadata": {
        "colab": {
          "base_uri": "https://localhost:8080/"
        },
        "id": "1A6PtKOEk5xw",
        "outputId": "1e613176-705d-4c69-91f4-9d468c2401d7"
      },
      "execution_count": 218,
      "outputs": [
        {
          "output_type": "execute_result",
          "data": {
            "text/plain": [
              "1"
            ]
          },
          "metadata": {},
          "execution_count": 218
        }
      ]
    },
    {
      "cell_type": "code",
      "source": [],
      "metadata": {
        "id": "veYBs69GsJjN"
      },
      "execution_count": 218,
      "outputs": []
    },
    {
      "cell_type": "code",
      "source": [
        "# X= X/255.0\n",
        "X = np.array(X)\n",
        "y = np.array(y)\n",
        "X=X/255.0\n",
        "\n",
        "X.shape"
      ],
      "metadata": {
        "colab": {
          "base_uri": "https://localhost:8080/"
        },
        "id": "VscdLHM7sOmL",
        "outputId": "41284d10-4857-4f02-e2db-b3b4581dc1b9"
      },
      "execution_count": 219,
      "outputs": [
        {
          "output_type": "execute_result",
          "data": {
            "text/plain": [
              "(10017, 25, 25)"
            ]
          },
          "metadata": {},
          "execution_count": 219
        }
      ]
    },
    {
      "cell_type": "code",
      "source": [],
      "metadata": {
        "id": "S-pk-Mx6Lp_A"
      },
      "execution_count": 219,
      "outputs": []
    },
    {
      "cell_type": "code",
      "source": [
        "\n",
        "X_train, X_test, y_train, y_test = train_test_split(X,y,test_size=0.2,random_state=42)\n",
        "X_train, X_val, y_train, y_val = train_test_split(X_train,y_train,test_size=0.1,random_state=42)\n",
        "X_train.shape,X_val.shape ,X_test.shape,y_train.shape,y_val.shape,y_test.shape"
      ],
      "metadata": {
        "execution": {
          "iopub.status.busy": "2022-03-25T18:03:29.882754Z",
          "iopub.execute_input": "2022-03-25T18:03:29.883247Z"
        },
        "trusted": true,
        "colab": {
          "base_uri": "https://localhost:8080/"
        },
        "id": "s-BGfL-KRHg8",
        "outputId": "34808760-f101-4a5a-ae0d-71b9dc720477"
      },
      "execution_count": 220,
      "outputs": [
        {
          "output_type": "execute_result",
          "data": {
            "text/plain": [
              "((7211, 25, 25),\n",
              " (802, 25, 25),\n",
              " (2004, 25, 25),\n",
              " (7211, 27),\n",
              " (802, 27),\n",
              " (2004, 27))"
            ]
          },
          "metadata": {},
          "execution_count": 220
        }
      ]
    },
    {
      "cell_type": "markdown",
      "source": [
        "## Apply augmentation\n",
        "- rotation, shifts, brightness change"
      ],
      "metadata": {
        "id": "PiGxhROoRHg8"
      }
    },
    {
      "cell_type": "code",
      "source": [
        "class myCallback(tf.keras.callbacks.Callback):\n",
        "    def on_epoch_end(self, epoch, logs={}):\n",
        "        \n",
        "        if(logs.get('accuracy') > 0.98):\n",
        "            # Stop if threshold is met\n",
        "            print(\"\\naccuracy of training is bigger than 98!\")\n",
        "            self.model.stop_training = True\n",
        "\n",
        "# Instantiate class\n",
        "callbacks = myCallback()"
      ],
      "metadata": {
        "trusted": true,
        "id": "KBRvQ4gpRHg-"
      },
      "execution_count": 221,
      "outputs": []
    },
    {
      "cell_type": "markdown",
      "source": [],
      "metadata": {
        "id": "ZLNiiycnkYxq"
      }
    },
    {
      "cell_type": "code",
      "source": [
        "cnn = Sequential([\n",
        "  tf.keras.layers.Conv2D(16, (22,22), input_shape=(25, 25, 1), activation='relu', padding='same'),\n",
        "  tf.keras.layers.Conv2D(16, (22,22), activation='relu', padding='same'),\n",
        "  tf.keras.layers.BatchNormalization(),\n",
        "  tf.keras.layers.MaxPooling2D((2,2)),\n",
        "  tf.keras.layers.Dropout(0.2),\n",
        "  tf.keras.layers.Conv2D(32, (16,16), activation='relu', padding='same'),\n",
        "  tf.keras.layers.Conv2D(32, (16,16), activation='relu', padding='same'),\n",
        "  tf.keras.layers.BatchNormalization(),\n",
        "  tf.keras.layers.MaxPooling2D((2,2)),\n",
        "  tf.keras.layers.Dropout(0.2),\n",
        "  tf.keras.layers.Conv2D(64, (8,8), activation='relu', padding='same'),\n",
        "  tf.keras.layers.Conv2D(64, (4,4), activation='relu', padding='same'),\n",
        "  tf.keras.layers.BatchNormalization(),\n",
        "  tf.keras.layers.MaxPooling2D((2,2)),\n",
        "  tf.keras.layers.Dropout(0.2),\n",
        "  tf.keras.layers.Conv2D(128, (4,4), activation='relu', padding='same'),\n",
        "  tf.keras.layers.Conv2D(128, (4,4), activation='relu', padding='same'),\n",
        "  tf.keras.layers.BatchNormalization(),\n",
        "  tf.keras.layers.Dropout(0.2),\n",
        "\n",
        "  tf.keras.layers.Flatten(),\n",
        "  tf.keras.layers.Dense(512, activation='relu'),\n",
        "  tf.keras.layers.Dense(256, activation='relu'),\n",
        "  tf.keras.layers.Dense(128, activation='relu'),\n",
        "  tf.keras.layers.Dense(64, activation='relu'),\n",
        "  tf.keras.layers.Dense(27, activation='softmax')\n",
        "])\n",
        "\n",
        "cnn.compile(optimizer=keras.optimizers.Adam(lr=0.001), \n",
        "            loss=keras.losses.CategoricalCrossentropy(from_logits=True)\n",
        ", metrics=['accuracy'])\n",
        "history = cnn.fit(X_train,y_train,validation_data=(X_val,y_val),batch_size=32, epochs=80, callbacks=callbacks)"
      ],
      "metadata": {
        "trusted": true,
        "colab": {
          "base_uri": "https://localhost:8080/"
        },
        "id": "JFXNs0JoRHhA",
        "outputId": "b3c69922-6d36-43fd-c3d9-f6a307045055"
      },
      "execution_count": 236,
      "outputs": [
        {
          "output_type": "stream",
          "name": "stdout",
          "text": [
            "Epoch 1/80\n"
          ]
        },
        {
          "output_type": "stream",
          "name": "stderr",
          "text": [
            "/usr/local/lib/python3.8/dist-packages/tensorflow/python/util/dispatch.py:1082: UserWarning: \"`categorical_crossentropy` received `from_logits=True`, but the `output` argument was produced by a sigmoid or softmax activation and thus does not represent logits. Was this intended?\"\n",
            "  return dispatch_target(*args, **kwargs)\n"
          ]
        },
        {
          "output_type": "stream",
          "name": "stdout",
          "text": [
            "226/226 [==============================] - 3s 11ms/step - loss: 2.1082 - accuracy: 0.3237 - val_loss: 2.8116 - val_accuracy: 0.3379\n",
            "Epoch 2/80\n",
            "226/226 [==============================] - 2s 9ms/step - loss: 1.0571 - accuracy: 0.6243 - val_loss: 2.0010 - val_accuracy: 0.5212\n",
            "Epoch 3/80\n",
            "226/226 [==============================] - 2s 9ms/step - loss: 0.6171 - accuracy: 0.7913 - val_loss: 0.4102 - val_accuracy: 0.8466\n",
            "Epoch 4/80\n",
            "226/226 [==============================] - 2s 10ms/step - loss: 0.3657 - accuracy: 0.8788 - val_loss: 0.5287 - val_accuracy: 0.8616\n",
            "Epoch 5/80\n",
            "226/226 [==============================] - 2s 9ms/step - loss: 0.2738 - accuracy: 0.9143 - val_loss: 0.2971 - val_accuracy: 0.9127\n",
            "Epoch 6/80\n",
            "226/226 [==============================] - 2s 9ms/step - loss: 0.2267 - accuracy: 0.9345 - val_loss: 0.1895 - val_accuracy: 0.9451\n",
            "Epoch 7/80\n",
            "226/226 [==============================] - 2s 10ms/step - loss: 0.1953 - accuracy: 0.9440 - val_loss: 0.2880 - val_accuracy: 0.9252\n",
            "Epoch 8/80\n",
            "226/226 [==============================] - 2s 10ms/step - loss: 0.1571 - accuracy: 0.9583 - val_loss: 0.3536 - val_accuracy: 0.9102\n",
            "Epoch 9/80\n",
            "226/226 [==============================] - 2s 9ms/step - loss: 0.1284 - accuracy: 0.9651 - val_loss: 0.1444 - val_accuracy: 0.9601\n",
            "Epoch 10/80\n",
            "226/226 [==============================] - 2s 9ms/step - loss: 0.1258 - accuracy: 0.9651 - val_loss: 0.1521 - val_accuracy: 0.9701\n",
            "Epoch 11/80\n",
            "226/226 [==============================] - 2s 9ms/step - loss: 0.1167 - accuracy: 0.9688 - val_loss: 0.0971 - val_accuracy: 0.9800\n",
            "Epoch 12/80\n",
            "226/226 [==============================] - 3s 15ms/step - loss: 0.1014 - accuracy: 0.9720 - val_loss: 0.2743 - val_accuracy: 0.9526\n",
            "Epoch 13/80\n",
            "226/226 [==============================] - 4s 16ms/step - loss: 0.1130 - accuracy: 0.9706 - val_loss: 0.1181 - val_accuracy: 0.9751\n",
            "Epoch 14/80\n",
            "226/226 [==============================] - 3s 12ms/step - loss: 0.1029 - accuracy: 0.9746 - val_loss: 0.1846 - val_accuracy: 0.9526\n",
            "Epoch 15/80\n",
            "226/226 [==============================] - 2s 10ms/step - loss: 0.0886 - accuracy: 0.9798 - val_loss: 0.1065 - val_accuracy: 0.9788\n",
            "Epoch 16/80\n",
            "222/226 [============================>.] - ETA: 0s - loss: 0.0712 - accuracy: 0.9840\n",
            "accuracy of training is bigger than 98!\n",
            "226/226 [==============================] - 2s 9ms/step - loss: 0.0713 - accuracy: 0.9836 - val_loss: 0.1145 - val_accuracy: 0.9788\n"
          ]
        }
      ]
    },
    {
      "cell_type": "code",
      "source": [
        "cnn.evaluate(X_test,y_test)\n"
      ],
      "metadata": {
        "colab": {
          "base_uri": "https://localhost:8080/"
        },
        "id": "Df4Pj4gJ2Ol5",
        "outputId": "26581919-399a-4893-cec8-c8172fa4cdd5"
      },
      "execution_count": 259,
      "outputs": [
        {
          "output_type": "stream",
          "name": "stdout",
          "text": [
            "63/63 [==============================] - 0s 6ms/step - loss: 0.0936 - accuracy: 0.9800\n"
          ]
        },
        {
          "output_type": "execute_result",
          "data": {
            "text/plain": [
              "[0.09363391995429993, 0.9800398945808411]"
            ]
          },
          "metadata": {},
          "execution_count": 259
        }
      ]
    },
    {
      "cell_type": "code",
      "source": [
        "#plot the history of the model\n",
        "# summarize history for accuarcy\n",
        "plt.plot(history.history['accuracy'])\n",
        "plt.plot(history.history['val_accuracy'])\n",
        "plt.title('model accuracy')\n",
        "plt.ylabel('accuracy')\n",
        "plt.xlabel('epoch')\n",
        "plt.legend(['train', 'val'], loc='upper left')\n",
        "plt.show()\n",
        "# for loss\n",
        "plt.plot(history.history['loss'])\n",
        "plt.plot(history.history['val_loss'])\n",
        "plt.title('model loss')\n",
        "plt.ylabel('loss')\n",
        "plt.xlabel('epoch')\n",
        "plt.legend(['train', 'val'], loc='upper left')\n",
        "plt.show()"
      ],
      "metadata": {
        "colab": {
          "base_uri": "https://localhost:8080/",
          "height": 573
        },
        "id": "63zo6NEHxqPP",
        "outputId": "d94f6a87-c26b-4d65-e187-24c86f01dd61"
      },
      "execution_count": 272,
      "outputs": [
        {
          "output_type": "display_data",
          "data": {
            "text/plain": [
              "<Figure size 432x288 with 1 Axes>"
            ],
            "image/png": "[encoded data removed]"
          },
          "metadata": {
            "needs_background": "light"
          }
        },
        {
          "output_type": "display_data",
          "data": {
            "text/plain": [
              "<Figure size 432x288 with 1 Axes>"
            ],
            "image/png": "[encoded data removed]"
          },
          "metadata": {
            "needs_background": "light"
          }
        }
      ]
    },
    {
      "cell_type": "code",
      "source": [
        "x = X_test[0]\n",
        "x= x.reshape(-1,25,25,1)\n",
        "x=cnn.predict(x)"
      ],
      "metadata": {
        "colab": {
          "base_uri": "https://localhost:8080/"
        },
        "id": "LYvXtp8Izq2B",
        "outputId": "89edf53d-1e81-4964-b792-8af99e49b7f8"
      },
      "execution_count": 238,
      "outputs": [
        {
          "output_type": "stream",
          "name": "stdout",
          "text": [
            "1/1 [==============================] - 0s 136ms/step\n"
          ]
        }
      ]
    },
    {
      "cell_type": "code",
      "source": [
        "np.max(x),x"
      ],
      "metadata": {
        "colab": {
          "base_uri": "https://localhost:8080/"
        },
        "id": "-o7FdZpM0CIc",
        "outputId": "4a627d7c-6b22-4b27-9fdb-2dccf294b892"
      },
      "execution_count": 239,
      "outputs": [
        {
          "output_type": "execute_result",
          "data": {
            "text/plain": [
              "(0.89649713,\n",
              " array([[4.0167861e-02, 1.0043781e-03, 5.9724585e-05, 6.6194640e-05,\n",
              "         8.4029525e-06, 5.4607895e-05, 2.5245332e-04, 1.2175777e-03,\n",
              "         2.8448261e-04, 1.5587641e-05, 1.7969578e-04, 1.5997296e-04,\n",
              "         3.5630667e-03, 3.7420737e-05, 1.6999306e-06, 5.5765163e-04,\n",
              "         3.1178370e-06, 1.8139657e-06, 1.0865247e-03, 8.9649713e-01,\n",
              "         1.3658253e-02, 1.7482232e-02, 2.1441870e-04, 2.6792855e-04,\n",
              "         1.2784534e-03, 2.1480098e-02, 3.9922344e-04]], dtype=float32))"
            ]
          },
          "metadata": {},
          "execution_count": 239
        }
      ]
    },
    {
      "cell_type": "code",
      "source": [
        "for i in range(len(x[0])):\n",
        "     if x[0][i] <= 0.98:\n",
        "        x[0][i]=0\n",
        "x,y_test[0][19]"
      ],
      "metadata": {
        "colab": {
          "base_uri": "https://localhost:8080/"
        },
        "id": "x7Y-Fl3L2Pss",
        "outputId": "490e5e67-c4bc-4fef-c3be-1b31cffb3b7c"
      },
      "execution_count": 228,
      "outputs": [
        {
          "output_type": "execute_result",
          "data": {
            "text/plain": [
              "(array([[0.       , 0.       , 0.       , 0.       , 0.       , 0.       ,\n",
              "         0.       , 0.       , 0.       , 0.       , 0.       , 0.       ,\n",
              "         0.       , 0.       , 0.       , 0.       , 0.       , 0.       ,\n",
              "         0.       , 0.9820633, 0.       , 0.       , 0.       , 0.       ,\n",
              "         0.       , 0.       , 0.       ]], dtype=float32), 1)"
            ]
          },
          "metadata": {},
          "execution_count": 228
        }
      ]
    },
    {
      "cell_type": "code",
      "source": [
        "X_test=X_test.reshape(-1,25,25,1)\n",
        "predictions = cnn.predict(X_test)\n",
        "predictions"
      ],
      "metadata": {
        "colab": {
          "base_uri": "https://localhost:8080/"
        },
        "id": "0HcXKu4ST3sI",
        "outputId": "41c2f572-c868-4495-c328-ca32f082c2b3"
      },
      "execution_count": 240,
      "outputs": [
        {
          "output_type": "stream",
          "name": "stdout",
          "text": [
            "63/63 [==============================] - 0s 4ms/step\n"
          ]
        },
        {
          "output_type": "execute_result",
          "data": {
            "text/plain": [
              "array([[4.01678421e-02, 1.00437866e-03, 5.97245853e-05, ...,\n",
              "        1.27845339e-03, 2.14800928e-02, 3.99223441e-04],\n",
              "       [3.73322973e-06, 6.66915014e-07, 1.50541507e-06, ...,\n",
              "        9.99825299e-01, 1.03821979e-10, 2.22778276e-08],\n",
              "       [1.29057334e-10, 2.39145422e-11, 2.89862717e-10, ...,\n",
              "        2.08559602e-12, 1.03177700e-09, 5.43739676e-09],\n",
              "       ...,\n",
              "       [4.52820724e-03, 2.91245942e-06, 4.34558594e-08, ...,\n",
              "        4.34271897e-06, 1.30424916e-03, 2.89885656e-06],\n",
              "       [4.14249271e-16, 5.35534852e-08, 8.22815600e-12, ...,\n",
              "        1.15678737e-18, 1.21764321e-16, 4.45290610e-10],\n",
              "       [1.31057121e-08, 1.12977974e-10, 4.67404206e-11, ...,\n",
              "        2.20325446e-15, 1.41077028e-09, 1.54000148e-07]], dtype=float32)"
            ]
          },
          "metadata": {},
          "execution_count": 240
        }
      ]
    },
    {
      "cell_type": "code",
      "source": [
        "cnn_graph = cnn.predict(X_test)\n",
        "print(cnn_graph[0])"
      ],
      "metadata": {
        "colab": {
          "base_uri": "https://localhost:8080/"
        },
        "id": "kHwGz7Een2R_",
        "outputId": "54f17fc9-202f-4e54-88d1-16331a958c41"
      },
      "execution_count": 241,
      "outputs": [
        {
          "output_type": "stream",
          "name": "stdout",
          "text": [
            "63/63 [==============================] - 0s 4ms/step\n",
            "[4.0167842e-02 1.0043787e-03 5.9724585e-05 6.6194698e-05 8.4029525e-06\n",
            " 5.4607895e-05 2.5245332e-04 1.2175777e-03 2.8448261e-04 1.5587641e-05\n",
            " 1.7969578e-04 1.5997296e-04 3.5630667e-03 3.7420737e-05 1.6999306e-06\n",
            " 5.5765116e-04 3.1178370e-06 1.8139641e-06 1.0865242e-03 8.9649713e-01\n",
            " 1.3658259e-02 1.7482240e-02 2.1441888e-04 2.6792855e-04 1.2784534e-03\n",
            " 2.1480093e-02 3.9922344e-04]\n"
          ]
        }
      ]
    },
    {
      "cell_type": "code",
      "source": [
        "y_predicted_cnn = cnn_graph\n",
        "\n",
        "print(y_test.shape ,y_predicted_cnn.shape)\n",
        "cnn_graph"
      ],
      "metadata": {
        "colab": {
          "base_uri": "https://localhost:8080/"
        },
        "id": "uwgemiiQn7fP",
        "outputId": "d259803b-abaf-455f-e5e0-5238dd07eece"
      },
      "execution_count": 247,
      "outputs": [
        {
          "output_type": "stream",
          "name": "stdout",
          "text": [
            "(2004, 27) (2004, 27)\n"
          ]
        },
        {
          "output_type": "execute_result",
          "data": {
            "text/plain": [
              "array([[4.01678421e-02, 1.00437866e-03, 5.97245853e-05, ...,\n",
              "        1.27845339e-03, 2.14800928e-02, 3.99223441e-04],\n",
              "       [3.73322973e-06, 6.66915014e-07, 1.50541507e-06, ...,\n",
              "        9.99825299e-01, 1.03821979e-10, 2.22778276e-08],\n",
              "       [1.29057334e-10, 2.39145422e-11, 2.89862717e-10, ...,\n",
              "        2.08559602e-12, 1.03177700e-09, 5.43739676e-09],\n",
              "       ...,\n",
              "       [4.52820724e-03, 2.91245942e-06, 4.34558594e-08, ...,\n",
              "        4.34271897e-06, 1.30424916e-03, 2.89885656e-06],\n",
              "       [4.14249271e-16, 5.35534852e-08, 8.22815600e-12, ...,\n",
              "        1.15678737e-18, 1.21764321e-16, 4.45290610e-10],\n",
              "       [1.31057121e-08, 1.12977974e-10, 4.67404206e-11, ...,\n",
              "        2.20325446e-15, 1.41077028e-09, 1.54000148e-07]], dtype=float32)"
            ]
          },
          "metadata": {},
          "execution_count": 247
        }
      ]
    },
    {
      "cell_type": "code",
      "source": [
        "y_predicted_cnn = []\n",
        "for i in cnn_graph:\n",
        "  n=[]\n",
        "  for x in i:\n",
        "    if x >0.95:\n",
        "        n.append(1)\n",
        "    else:\n",
        "      n.append(0)\n",
        "  y_predicted_cnn.append(n)\n",
        "len(y_predicted_cnn)\n",
        "y_predicted_cnn=np.array(y_predicted_cnn)"
      ],
      "metadata": {
        "id": "5RwsUm4ppqVq"
      },
      "execution_count": 252,
      "outputs": []
    },
    {
      "cell_type": "code",
      "source": [
        "y_test_g= []\n",
        "for i in cnn_graph:\n",
        "  n=[]\n",
        "  for x in i:\n",
        "    if x >0.95:\n",
        "        n.append(1)\n",
        "    else:\n",
        "      n.append(0)\n",
        "  y_test_g.append(n)\n",
        "len(y_test_g)\n",
        "y_test_g=np.array(y_test_g)\n",
        "y_test_g.shape, y_predicted_cnn.shape"
      ],
      "metadata": {
        "colab": {
          "base_uri": "https://localhost:8080/"
        },
        "id": "EWEZyfNFp-0c",
        "outputId": "c83bc4b9-ce2e-4793-f555-096a6e2525dd"
      },
      "execution_count": 257,
      "outputs": [
        {
          "output_type": "execute_result",
          "data": {
            "text/plain": [
              "((2004, 27), (2004, 27))"
            ]
          },
          "metadata": {},
          "execution_count": 257
        }
      ]
    },
    {
      "cell_type": "code",
      "source": [
        "# cnn_graph = cnn.predict(X_test)\n",
        "\n",
        "\n",
        "# y_predicted_cnn = cnn_graph\n",
        "\n",
        "cm_cnn = tf.math.confusion_matrix(labels=y_test_g, predictions=y_predicted_cnn)\n",
        "\n",
        "\n",
        "fig, ax = plt.subplots(figsize=(18,10))         # Sample figsize in inches\n",
        "sn.heatmap(cm_cnn, annot=True, linewidths=.5, ax=ax)"
      ],
      "metadata": {
        "id": "O-iomfDgUS9V",
        "colab": {
          "base_uri": "https://localhost:8080/",
          "height": 380
        },
        "outputId": "49ced104-49b1-4c17-9d09-aebad6993bf4"
      },
      "execution_count": 258,
      "outputs": [
        {
          "output_type": "error",
          "ename": "InvalidArgumentError",
          "evalue": "ignored",
          "traceback": [
            "\u001b[0;31m---------------------------------------------------------------------------\u001b[0m",
            "\u001b[0;31mInvalidArgumentError\u001b[0m                      Traceback (most recent call last)",
            "\u001b[0;32m<ipython-input-258-f76e8a4cda5a>\u001b[0m in \u001b[0;36m<module>\u001b[0;34m\u001b[0m\n\u001b[1;32m      4\u001b[0m \u001b[0;31m# y_predicted_cnn = cnn_graph\u001b[0m\u001b[0;34m\u001b[0m\u001b[0;34m\u001b[0m\u001b[0;34m\u001b[0m\u001b[0m\n\u001b[1;32m      5\u001b[0m \u001b[0;34m\u001b[0m\u001b[0m\n\u001b[0;32m----> 6\u001b[0;31m \u001b[0mcm_cnn\u001b[0m \u001b[0;34m=\u001b[0m \u001b[0mtf\u001b[0m\u001b[0;34m.\u001b[0m\u001b[0mmath\u001b[0m\u001b[0;34m.\u001b[0m\u001b[0mconfusion_matrix\u001b[0m\u001b[0;34m(\u001b[0m\u001b[0mlabels\u001b[0m\u001b[0;34m=\u001b[0m\u001b[0my_test_g\u001b[0m\u001b[0;34m,\u001b[0m \u001b[0mpredictions\u001b[0m\u001b[0;34m=\u001b[0m\u001b[0my_predicted_cnn\u001b[0m\u001b[0;34m)\u001b[0m\u001b[0;34m\u001b[0m\u001b[0;34m\u001b[0m\u001b[0m\n\u001b[0m\u001b[1;32m      7\u001b[0m \u001b[0;34m\u001b[0m\u001b[0m\n\u001b[1;32m      8\u001b[0m \u001b[0;34m\u001b[0m\u001b[0m\n",
            "\u001b[0;32m/usr/local/lib/python3.8/dist-packages/tensorflow/python/util/traceback_utils.py\u001b[0m in \u001b[0;36merror_handler\u001b[0;34m(*args, **kwargs)\u001b[0m\n\u001b[1;32m    151\u001b[0m     \u001b[0;32mexcept\u001b[0m \u001b[0mException\u001b[0m \u001b[0;32mas\u001b[0m \u001b[0me\u001b[0m\u001b[0;34m:\u001b[0m\u001b[0;34m\u001b[0m\u001b[0;34m\u001b[0m\u001b[0m\n\u001b[1;32m    152\u001b[0m       \u001b[0mfiltered_tb\u001b[0m \u001b[0;34m=\u001b[0m \u001b[0m_process_traceback_frames\u001b[0m\u001b[0;34m(\u001b[0m\u001b[0me\u001b[0m\u001b[0;34m.\u001b[0m\u001b[0m__traceback__\u001b[0m\u001b[0;34m)\u001b[0m\u001b[0;34m\u001b[0m\u001b[0;34m\u001b[0m\u001b[0m\n\u001b[0;32m--> 153\u001b[0;31m       \u001b[0;32mraise\u001b[0m \u001b[0me\u001b[0m\u001b[0;34m.\u001b[0m\u001b[0mwith_traceback\u001b[0m\u001b[0;34m(\u001b[0m\u001b[0mfiltered_tb\u001b[0m\u001b[0;34m)\u001b[0m \u001b[0;32mfrom\u001b[0m \u001b[0;32mNone\u001b[0m\u001b[0;34m\u001b[0m\u001b[0;34m\u001b[0m\u001b[0m\n\u001b[0m\u001b[1;32m    154\u001b[0m     \u001b[0;32mfinally\u001b[0m\u001b[0;34m:\u001b[0m\u001b[0;34m\u001b[0m\u001b[0;34m\u001b[0m\u001b[0m\n\u001b[1;32m    155\u001b[0m       \u001b[0;32mdel\u001b[0m \u001b[0mfiltered_tb\u001b[0m\u001b[0;34m\u001b[0m\u001b[0;34m\u001b[0m\u001b[0m\n",
            "\u001b[0;32m/usr/local/lib/python3.8/dist-packages/tensorflow/python/framework/ops.py\u001b[0m in \u001b[0;36mraise_from_not_ok_status\u001b[0;34m(e, name)\u001b[0m\n\u001b[1;32m   7162\u001b[0m \u001b[0;32mdef\u001b[0m \u001b[0mraise_from_not_ok_status\u001b[0m\u001b[0;34m(\u001b[0m\u001b[0me\u001b[0m\u001b[0;34m,\u001b[0m \u001b[0mname\u001b[0m\u001b[0;34m)\u001b[0m\u001b[0;34m:\u001b[0m\u001b[0;34m\u001b[0m\u001b[0;34m\u001b[0m\u001b[0m\n\u001b[1;32m   7163\u001b[0m   \u001b[0me\u001b[0m\u001b[0;34m.\u001b[0m\u001b[0mmessage\u001b[0m \u001b[0;34m+=\u001b[0m \u001b[0;34m(\u001b[0m\u001b[0;34m\" name: \"\u001b[0m \u001b[0;34m+\u001b[0m \u001b[0mname\u001b[0m \u001b[0;32mif\u001b[0m \u001b[0mname\u001b[0m \u001b[0;32mis\u001b[0m \u001b[0;32mnot\u001b[0m \u001b[0;32mNone\u001b[0m \u001b[0;32melse\u001b[0m \u001b[0;34m\"\"\u001b[0m\u001b[0;34m)\u001b[0m\u001b[0;34m\u001b[0m\u001b[0;34m\u001b[0m\u001b[0m\n\u001b[0;32m-> 7164\u001b[0;31m   \u001b[0;32mraise\u001b[0m \u001b[0mcore\u001b[0m\u001b[0;34m.\u001b[0m\u001b[0m_status_to_exception\u001b[0m\u001b[0;34m(\u001b[0m\u001b[0me\u001b[0m\u001b[0;34m)\u001b[0m \u001b[0;32mfrom\u001b[0m \u001b[0;32mNone\u001b[0m  \u001b[0;31m# pylint: disable=protected-access\u001b[0m\u001b[0;34m\u001b[0m\u001b[0;34m\u001b[0m\u001b[0m\n\u001b[0m\u001b[1;32m   7165\u001b[0m \u001b[0;34m\u001b[0m\u001b[0m\n\u001b[1;32m   7166\u001b[0m \u001b[0;34m\u001b[0m\u001b[0m\n",
            "\u001b[0;31mInvalidArgumentError\u001b[0m: Dimensions [0,2) of indices[shape=[2004,2,27]] must match dimensions [0,2) of updates[shape=[2004,27]] [Op:ScatterNd]"
          ]
        }
      ]
    },
    {
      "cell_type": "code",
      "source": [
        "x=cnn.predict(X_test)\n",
        "x[0] ,y_test[0]"
      ],
      "metadata": {
        "id": "nDp-kBmOkx6c"
      },
      "execution_count": null,
      "outputs": []
    }
  ]
}